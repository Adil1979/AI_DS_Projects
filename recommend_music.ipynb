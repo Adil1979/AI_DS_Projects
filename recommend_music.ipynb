{
  "nbformat": 4,
  "nbformat_minor": 0,
  "metadata": {
    "colab": {
      "name": "recommend_music.ipynb",
      "provenance": [],
      "include_colab_link": true
    },
    "kernelspec": {
      "display_name": "Python 3",
      "name": "python3"
    }
  },
  "cells": [
    {
      "cell_type": "markdown",
      "metadata": {
        "id": "view-in-github",
        "colab_type": "text"
      },
      "source": [
        "<a href=\"https://colab.research.google.com/github/Adil1979/AI_DS_Projects/blob/master/recommend_music.ipynb\" target=\"_parent\"><img src=\"https://colab.research.google.com/assets/colab-badge.svg\" alt=\"Open In Colab\"/></a>"
      ]
    },
    {
      "cell_type": "markdown",
      "metadata": {
        "id": "uixRc0XtrHuj"
      },
      "source": [
        "# **Recommendation Music**"
      ]
    },
    {
      "cell_type": "markdown",
      "metadata": {
        "id": "hMZ64UxxrMvL"
      },
      "source": [
        "install pyspark"
      ]
    },
    {
      "cell_type": "code",
      "metadata": {
        "id": "EZZYDDe0DQEz"
      },
      "source": [
        "from google.colab import drive\r\n"
      ],
      "execution_count": 1,
      "outputs": []
    },
    {
      "cell_type": "code",
      "metadata": {
        "colab": {
          "base_uri": "https://localhost:8080/"
        },
        "id": "8TyiheWmDfbD",
        "outputId": "e636d562-f271-477c-db1f-aa67f0772c26"
      },
      "source": [
        "drive.mount('/content/drive')"
      ],
      "execution_count": 2,
      "outputs": [
        {
          "output_type": "stream",
          "text": [
            "Mounted at /content/drive\n"
          ],
          "name": "stdout"
        }
      ]
    },
    {
      "cell_type": "code",
      "metadata": {
        "id": "Dal3Np2Imn8u",
        "colab": {
          "base_uri": "https://localhost:8080/"
        },
        "outputId": "82e51944-d69a-4465-a6b1-193663f4355d"
      },
      "source": [
        "!pip install pyspark"
      ],
      "execution_count": 3,
      "outputs": [
        {
          "output_type": "stream",
          "text": [
            "Collecting pyspark\n",
            "\u001b[?25l  Downloading https://files.pythonhosted.org/packages/45/b0/9d6860891ab14a39d4bddf80ba26ce51c2f9dc4805e5c6978ac0472c120a/pyspark-3.1.1.tar.gz (212.3MB)\n",
            "\u001b[K     |████████████████████████████████| 212.3MB 74kB/s \n",
            "\u001b[?25hCollecting py4j==0.10.9\n",
            "\u001b[?25l  Downloading https://files.pythonhosted.org/packages/9e/b6/6a4fb90cd235dc8e265a6a2067f2a2c99f0d91787f06aca4bcf7c23f3f80/py4j-0.10.9-py2.py3-none-any.whl (198kB)\n",
            "\u001b[K     |████████████████████████████████| 204kB 20.7MB/s \n",
            "\u001b[?25hBuilding wheels for collected packages: pyspark\n",
            "  Building wheel for pyspark (setup.py) ... \u001b[?25l\u001b[?25hdone\n",
            "  Created wheel for pyspark: filename=pyspark-3.1.1-py2.py3-none-any.whl size=212767604 sha256=e3ea4aa8a2821dde440309825688d5fb05b3b1026877ec489a1fa534a42ed575\n",
            "  Stored in directory: /root/.cache/pip/wheels/0b/90/c0/01de724414ef122bd05f056541fb6a0ecf47c7ca655f8b3c0f\n",
            "Successfully built pyspark\n",
            "Installing collected packages: py4j, pyspark\n",
            "Successfully installed py4j-0.10.9 pyspark-3.1.1\n"
          ],
          "name": "stdout"
        }
      ]
    },
    {
      "cell_type": "markdown",
      "metadata": {
        "id": "eK9D-CNgru_s"
      },
      "source": [
        "Importing the modules"
      ]
    },
    {
      "cell_type": "code",
      "metadata": {
        "id": "Z_cmzia9nA1W"
      },
      "source": [
        "from pyspark.sql import SparkSession\n",
        "from pyspark.sql.functions import count, desc , col, max\n",
        "from pyspark.ml.feature import  StringIndexer\n",
        "from pyspark.ml import Pipeline\n",
        "from pyspark.ml.recommendation import ALS\n",
        "from pyspark.ml.tuning import TrainValidationSplit, ParamGridBuilder"
      ],
      "execution_count": 4,
      "outputs": []
    },
    {
      "cell_type": "markdown",
      "metadata": {
        "id": "pjM5P6b0rVpH"
      },
      "source": [
        "Creating the spark session\n"
      ]
    },
    {
      "cell_type": "code",
      "metadata": {
        "id": "gvSzI0zMn4Hk"
      },
      "source": [
        "spark  = SparkSession.builder.appName('lastfm').getOrCreate()"
      ],
      "execution_count": 6,
      "outputs": []
    },
    {
      "cell_type": "markdown",
      "metadata": {
        "id": "KnyYdMVmnkp5"
      },
      "source": [
        "# Loading the dataset"
      ]
    },
    {
      "cell_type": "code",
      "metadata": {
        "id": "PywJeVgDngVd",
        "colab": {
          "base_uri": "https://localhost:8080/"
        },
        "outputId": "965e997c-b9a7-450a-a315-2dc44d27de2a"
      },
      "source": [
        "file_path = '/content/drive/MyDrive/Pyspark/listenings.csv'\r\n",
        "df_listenings = spark.read.format('csv').option('header', True).option('inferSchema', True).load(file_path)\r\n",
        "df_listenings.show()"
      ],
      "execution_count": 7,
      "outputs": [
        {
          "output_type": "stream",
          "text": [
            "+-----------+-------------+--------------------+---------------+--------------------+\n",
            "|    user_id|         date|               track|         artist|               album|\n",
            "+-----------+-------------+--------------------+---------------+--------------------+\n",
            "|000Silenced|1299680100000|           Price Tag|       Jessie J|         Who You Are|\n",
            "|000Silenced|1299679920000|Price Tag (Acoust...|       Jessie J|           Price Tag|\n",
            "|000Silenced|1299679440000|Be Mine! (Ballad ...|          Robyn|            Be Mine!|\n",
            "|000Silenced|1299679200000|            Acapella|          Kelis|            Acapella|\n",
            "|000Silenced|1299675660000|   I'm Not Invisible|      The Tease|   I'm Not Invisible|\n",
            "|000Silenced|1297511400000|Bounce (Feat NORE...|       MSTRKRFT|         Fist of God|\n",
            "|000Silenced|1294498440000|Don't Stop The Mu...|        Rihanna|Addicted 2 Bassli...|\n",
            "|000Silenced|1292438340000|               ObZen|      Meshuggah|               ObZen|\n",
            "|000Silenced|1292437740000|   Yama's Messengers|         Gojira|The Way of All Flesh|\n",
            "|000Silenced|1292436360000|On the Brink of E...|   Napalm Death|Time Waits For No...|\n",
            "|000Silenced|1292436360000|On the Brink of E...|   Napalm Death|Time Waits For No...|\n",
            "|000Silenced|1292435940000|        In Deference|   Napalm Death|      Smear Campaign|\n",
            "|000Silenced|1292434920000|      Post(?)organic|    Decapitated|Organic Hallucinosis|\n",
            "|000Silenced|1292434560000|        Mind Feeders|   Dom & Roland| No Strings Attached|\n",
            "|000Silenced|1292434320000|Necrosadistic War...|Cannibal Corpse|                Kill|\n",
            "|000Silenced|1292365560000|     Dance All Night|   Dom & Roland|          Chronology|\n",
            "|000Silenced|1292365260000|          Late Night|   Dom & Roland|          Chronology|\n",
            "|000Silenced|1292365020000|          Freak Seen|   Dom & Roland|          Chronology|\n",
            "|000Silenced|1292364720000|Paradrenasite (Hi...|   Dom & Roland|          Chronology|\n",
            "|000Silenced|1292364300000|               Rhino|   Dom & Roland|          Chronology|\n",
            "+-----------+-------------+--------------------+---------------+--------------------+\n",
            "only showing top 20 rows\n",
            "\n"
          ],
          "name": "stdout"
        }
      ]
    },
    {
      "cell_type": "markdown",
      "metadata": {
        "id": "YUHBP0yjoJvc"
      },
      "source": [
        "\n",
        "# Cleaning tables "
      ]
    },
    {
      "cell_type": "code",
      "metadata": {
        "id": "N8luDo3HndTb",
        "colab": {
          "base_uri": "https://localhost:8080/"
        },
        "outputId": "38b41490-5fb7-4976-d813-704c66f10e51"
      },
      "source": [
        "df_listenings = df_listenings.drop('date')\r\n",
        "df_listenings.show()"
      ],
      "execution_count": 8,
      "outputs": [
        {
          "output_type": "stream",
          "text": [
            "+-----------+--------------------+---------------+--------------------+\n",
            "|    user_id|               track|         artist|               album|\n",
            "+-----------+--------------------+---------------+--------------------+\n",
            "|000Silenced|           Price Tag|       Jessie J|         Who You Are|\n",
            "|000Silenced|Price Tag (Acoust...|       Jessie J|           Price Tag|\n",
            "|000Silenced|Be Mine! (Ballad ...|          Robyn|            Be Mine!|\n",
            "|000Silenced|            Acapella|          Kelis|            Acapella|\n",
            "|000Silenced|   I'm Not Invisible|      The Tease|   I'm Not Invisible|\n",
            "|000Silenced|Bounce (Feat NORE...|       MSTRKRFT|         Fist of God|\n",
            "|000Silenced|Don't Stop The Mu...|        Rihanna|Addicted 2 Bassli...|\n",
            "|000Silenced|               ObZen|      Meshuggah|               ObZen|\n",
            "|000Silenced|   Yama's Messengers|         Gojira|The Way of All Flesh|\n",
            "|000Silenced|On the Brink of E...|   Napalm Death|Time Waits For No...|\n",
            "|000Silenced|On the Brink of E...|   Napalm Death|Time Waits For No...|\n",
            "|000Silenced|        In Deference|   Napalm Death|      Smear Campaign|\n",
            "|000Silenced|      Post(?)organic|    Decapitated|Organic Hallucinosis|\n",
            "|000Silenced|        Mind Feeders|   Dom & Roland| No Strings Attached|\n",
            "|000Silenced|Necrosadistic War...|Cannibal Corpse|                Kill|\n",
            "|000Silenced|     Dance All Night|   Dom & Roland|          Chronology|\n",
            "|000Silenced|          Late Night|   Dom & Roland|          Chronology|\n",
            "|000Silenced|          Freak Seen|   Dom & Roland|          Chronology|\n",
            "|000Silenced|Paradrenasite (Hi...|   Dom & Roland|          Chronology|\n",
            "|000Silenced|               Rhino|   Dom & Roland|          Chronology|\n",
            "+-----------+--------------------+---------------+--------------------+\n",
            "only showing top 20 rows\n",
            "\n"
          ],
          "name": "stdout"
        }
      ]
    },
    {
      "cell_type": "code",
      "metadata": {
        "id": "5rDadwmpowII",
        "colab": {
          "base_uri": "https://localhost:8080/"
        },
        "outputId": "3245bdc0-7596-4ea9-bc4a-75f74bc73d89"
      },
      "source": [
        "df_listenings = df_listenings.na.drop()\r\n",
        "df_listenings.show()"
      ],
      "execution_count": 9,
      "outputs": [
        {
          "output_type": "stream",
          "text": [
            "+-----------+--------------------+---------------+--------------------+\n",
            "|    user_id|               track|         artist|               album|\n",
            "+-----------+--------------------+---------------+--------------------+\n",
            "|000Silenced|           Price Tag|       Jessie J|         Who You Are|\n",
            "|000Silenced|Price Tag (Acoust...|       Jessie J|           Price Tag|\n",
            "|000Silenced|Be Mine! (Ballad ...|          Robyn|            Be Mine!|\n",
            "|000Silenced|            Acapella|          Kelis|            Acapella|\n",
            "|000Silenced|   I'm Not Invisible|      The Tease|   I'm Not Invisible|\n",
            "|000Silenced|Bounce (Feat NORE...|       MSTRKRFT|         Fist of God|\n",
            "|000Silenced|Don't Stop The Mu...|        Rihanna|Addicted 2 Bassli...|\n",
            "|000Silenced|               ObZen|      Meshuggah|               ObZen|\n",
            "|000Silenced|   Yama's Messengers|         Gojira|The Way of All Flesh|\n",
            "|000Silenced|On the Brink of E...|   Napalm Death|Time Waits For No...|\n",
            "|000Silenced|On the Brink of E...|   Napalm Death|Time Waits For No...|\n",
            "|000Silenced|        In Deference|   Napalm Death|      Smear Campaign|\n",
            "|000Silenced|      Post(?)organic|    Decapitated|Organic Hallucinosis|\n",
            "|000Silenced|        Mind Feeders|   Dom & Roland| No Strings Attached|\n",
            "|000Silenced|Necrosadistic War...|Cannibal Corpse|                Kill|\n",
            "|000Silenced|     Dance All Night|   Dom & Roland|          Chronology|\n",
            "|000Silenced|          Late Night|   Dom & Roland|          Chronology|\n",
            "|000Silenced|          Freak Seen|   Dom & Roland|          Chronology|\n",
            "|000Silenced|Paradrenasite (Hi...|   Dom & Roland|          Chronology|\n",
            "|000Silenced|               Rhino|   Dom & Roland|          Chronology|\n",
            "+-----------+--------------------+---------------+--------------------+\n",
            "only showing top 20 rows\n",
            "\n"
          ],
          "name": "stdout"
        }
      ]
    },
    {
      "cell_type": "code",
      "metadata": {
        "id": "KOSOmsb1NE_c",
        "outputId": "51f1289f-e51a-4088-cc64-f28fb80d8177",
        "colab": {
          "base_uri": "https://localhost:8080/"
        }
      },
      "source": [
        "row_numbers = df_listenings.count()\r\n",
        "column_numbers = len(df_listenings.columns)\r\n",
        "print(row_numbers, column_numbers)"
      ],
      "execution_count": 11,
      "outputs": [
        {
          "output_type": "stream",
          "text": [
            "13758905 4\n"
          ],
          "name": "stdout"
        }
      ]
    },
    {
      "cell_type": "markdown",
      "metadata": {
        "id": "cyf1XITGpMWV"
      },
      "source": [
        "\n",
        "# Let's Perform some aggregation\n",
        "to see how many times each user has listened to specific track\n"
      ]
    },
    {
      "cell_type": "code",
      "metadata": {
        "id": "PeH7vYKEoyWa",
        "outputId": "f08bacff-64da-4137-b3be-88eea596e731",
        "colab": {
          "base_uri": "https://localhost:8080/"
        }
      },
      "source": [
        "df_listenings_agg = df_listenings.select('user_id', 'track').groupBy('user_id', 'track').agg(count('*')).orderBy('user_id')\r\n",
        "df_listenings_agg.show()"
      ],
      "execution_count": 12,
      "outputs": [
        {
          "output_type": "stream",
          "text": [
            "+-------+--------------------+--------+\n",
            "|user_id|               track|count(1)|\n",
            "+-------+--------------------+--------+\n",
            "| --Seph|Chelsea Hotel - L...|       1|\n",
            "| --Seph|               Leloo|       1|\n",
            "| --Seph|          Paris 2004|       7|\n",
            "| --Seph|     The Way We Were|       1|\n",
            "| --Seph|        Window Blues|       1|\n",
            "| --Seph|   Summa for Strings|       1|\n",
            "| --Seph|         The Embrace|       1|\n",
            "| --Seph|       Life On Mars?|       1|\n",
            "| --Seph|Hungarian Rhapsod...|       1|\n",
            "| --Seph| Air on the G String|       1|\n",
            "| --Seph|Vestido Estampado...|       1|\n",
            "| --Seph|Belina (Original ...|       1|\n",
            "| --Seph|Hungarian Dance No 5|       1|\n",
            "| --Seph|       Phantom Pt II|       1|\n",
            "| --Seph|              Monday|       1|\n",
            "| --Seph| White Winter Hymnal|       3|\n",
            "| --Seph|Airplanes [feat H...|       1|\n",
            "| --Seph|  California Waiting|       1|\n",
            "| --Seph|      Hour for magic|       2|\n",
            "| --Seph|Virus (Luke Fair ...|       1|\n",
            "+-------+--------------------+--------+\n",
            "only showing top 20 rows\n",
            "\n"
          ],
          "name": "stdout"
        }
      ]
    },
    {
      "cell_type": "code",
      "metadata": {
        "id": "KsTXVsO7I7Jw",
        "outputId": "8906e10c-113e-4281-bd22-47b1451d315e",
        "colab": {
          "base_uri": "https://localhost:8080/"
        }
      },
      "source": [
        "row_numbers = df_listenings_agg.count()\r\n",
        "column_numbers = len(df_listenings_agg.columns)\r\n",
        "print(row_numbers, column_numbers)"
      ],
      "execution_count": 13,
      "outputs": [
        {
          "output_type": "stream",
          "text": [
            "9930128 3\n"
          ],
          "name": "stdout"
        }
      ]
    },
    {
      "cell_type": "code",
      "metadata": {
        "id": "pWCh9P-tbVFy"
      },
      "source": [
        "df_listenings_agg = df_listenings_agg.limit(20000)"
      ],
      "execution_count": 14,
      "outputs": []
    },
    {
      "cell_type": "markdown",
      "metadata": {
        "id": "vuebvg7UqzsO"
      },
      "source": [
        "# Let's convert the user id and track columns into unique integers\n",
        "\n",
        "\n"
      ]
    },
    {
      "cell_type": "code",
      "metadata": {
        "id": "F9RSpj3DN6aX",
        "outputId": "2844fcf8-610b-4135-db4c-56599ec9f400",
        "colab": {
          "base_uri": "https://localhost:8080/"
        }
      },
      "source": [
        "indexer = [StringIndexer(inputCol=col, outputCol=col+'_index').fit(df_listenings_agg) for col in list(set(df_listenings_agg.columns) - set(['count']))]\r\n",
        "pipeline = Pipeline(stages=indexer)\r\n",
        "data = pipeline.fit(df_listenings_agg).transform(df_listenings_agg)\r\n",
        "data.show()"
      ],
      "execution_count": 16,
      "outputs": [
        {
          "output_type": "stream",
          "text": [
            "+-------+--------------------+--------+-----------+-------------+--------------+\n",
            "|user_id|               track|count(1)|track_index|user_id_index|count(1)_index|\n",
            "+-------+--------------------+--------+-----------+-------------+--------------+\n",
            "| --Seph| White Winter Hymnal|       3|       59.0|         69.0|           2.0|\n",
            "| --Seph|Virus (Luke Fair ...|       1|    15896.0|         69.0|           0.0|\n",
            "| --Seph|Airplanes [feat H...|       1|      519.0|         69.0|           0.0|\n",
            "| --Seph|Belina (Original ...|       1|     3278.0|         69.0|           0.0|\n",
            "| --Seph|              Monday|       1|      334.0|         69.0|           0.0|\n",
            "| --Seph|Hungarian Dance No 5|       1|     7558.0|         69.0|           0.0|\n",
            "| --Seph|       Life On Mars?|       1|     1161.0|         69.0|           0.0|\n",
            "| --Seph|  California Waiting|       1|      197.0|         69.0|           0.0|\n",
            "| --Seph|       Phantom Pt II|       1|     1377.0|         69.0|           0.0|\n",
            "| --Seph|   Summa for Strings|       1|    13739.0|         69.0|           0.0|\n",
            "| --Seph|      Hour for magic|       2|     7495.0|         69.0|           1.0|\n",
            "| --Seph|Hungarian Rhapsod...|       1|     7559.0|         69.0|           0.0|\n",
            "| --Seph|     The Way We Were|       1|    14960.0|         69.0|           0.0|\n",
            "| --Seph| Air on the G String|       1|     2455.0|         69.0|           0.0|\n",
            "| --Seph|Vestido Estampado...|       1|    15850.0|         69.0|           0.0|\n",
            "| --Seph|        Window Blues|       1|     1840.0|         69.0|           0.0|\n",
            "| --Seph|               Leloo|       1|     9057.0|         69.0|           0.0|\n",
            "| --Seph|         The Embrace|       1|    14387.0|         69.0|           0.0|\n",
            "| --Seph|          Paris 2004|       7|    11313.0|         69.0|           7.0|\n",
            "| --Seph|Chelsea Hotel - L...|       1|     4183.0|         69.0|           0.0|\n",
            "+-------+--------------------+--------+-----------+-------------+--------------+\n",
            "only showing top 20 rows\n",
            "\n"
          ],
          "name": "stdout"
        }
      ]
    },
    {
      "cell_type": "code",
      "metadata": {
        "id": "efL-hiR-q-AO"
      },
      "source": [
        "data = data.select('user_id_index', 'track_index', 'count(1)').orderBy('user_id_index')"
      ],
      "execution_count": 18,
      "outputs": []
    },
    {
      "cell_type": "code",
      "metadata": {
        "id": "OfKtj2ojrKae",
        "outputId": "4d4032be-3e67-4844-d553-700f70ffb3b2",
        "colab": {
          "base_uri": "https://localhost:8080/"
        }
      },
      "source": [
        "data.show()"
      ],
      "execution_count": 19,
      "outputs": [
        {
          "output_type": "stream",
          "text": [
            "+-------------+-----------+--------+\n",
            "|user_id_index|track_index|count(1)|\n",
            "+-------------+-----------+--------+\n",
            "|          0.0|    10943.0|       1|\n",
            "|          0.0|    11628.0|       2|\n",
            "|          0.0|     1349.0|       1|\n",
            "|          0.0|      381.0|       1|\n",
            "|          0.0|     8692.0|       1|\n",
            "|          0.0|     6899.0|       1|\n",
            "|          0.0|    14044.0|       1|\n",
            "|          0.0|    15513.0|       1|\n",
            "|          0.0|    11978.0|       2|\n",
            "|          0.0|    15176.0|       1|\n",
            "|          0.0|     8305.0|       1|\n",
            "|          0.0|    13722.0|       1|\n",
            "|          0.0|    10620.0|       1|\n",
            "|          0.0|     4424.0|       1|\n",
            "|          0.0|    16732.0|       1|\n",
            "|          0.0|    10630.0|       1|\n",
            "|          0.0|    12169.0|       1|\n",
            "|          0.0|     4117.0|       1|\n",
            "|          0.0|    10336.0|       1|\n",
            "|          0.0|    16829.0|       1|\n",
            "+-------------+-----------+--------+\n",
            "only showing top 20 rows\n",
            "\n"
          ],
          "name": "stdout"
        }
      ]
    },
    {
      "cell_type": "markdown",
      "metadata": {
        "id": "IEwviAxXsHwN"
      },
      "source": [
        "# Train and Test data"
      ]
    },
    {
      "cell_type": "code",
      "metadata": {
        "id": "DRgu2p-PsYUw"
      },
      "source": [
        "(training, test) = data.randomSplit([0.5,0.5])"
      ],
      "execution_count": 26,
      "outputs": []
    },
    {
      "cell_type": "markdown",
      "metadata": {
        "id": "M46wV6Gusdi5"
      },
      "source": [
        "# Let's Create our Model"
      ]
    },
    {
      "cell_type": "code",
      "metadata": {
        "id": "bwPk25M3sfRu"
      },
      "source": [
        "USERID = 'user_id_index'\n",
        "TRACK = 'track_index'\n",
        "COUNT = 'count(1)'\n",
        "\n",
        "als = ALS(maxIter=5, regParam=0.01, userCol=USERID, itemCol=TRACK, ratingCol=COUNT)\n",
        "model = als.fit(training)\n",
        "\n",
        "predictions = model.transform(test)"
      ],
      "execution_count": 27,
      "outputs": []
    },
    {
      "cell_type": "markdown",
      "metadata": {
        "id": "lqBkLowzsoj8"
      },
      "source": [
        "\n",
        "# Generate top 10 Track recommendations for each user"
      ]
    },
    {
      "cell_type": "code",
      "metadata": {
        "id": "00mtv7XUsZGg"
      },
      "source": [
        "recs = model.recommendForAllUsers(10)"
      ],
      "execution_count": 28,
      "outputs": []
    },
    {
      "cell_type": "code",
      "metadata": {
        "id": "_EQnSUh3ncar",
        "outputId": "d5815150-ce47-45b2-a0d4-9c6aeb7e6fa1",
        "colab": {
          "base_uri": "https://localhost:8080/"
        }
      },
      "source": [
        "recs.show()"
      ],
      "execution_count": 29,
      "outputs": [
        {
          "output_type": "stream",
          "text": [
            "+-------------+--------------------+\n",
            "|user_id_index|     recommendations|\n",
            "+-------------+--------------------+\n",
            "|           31|[{11941, 39.95844...|\n",
            "|           85|[{11941, 23.73517...|\n",
            "|          137|[{4461, 10.181214...|\n",
            "|           65|[{4461, 8.182498}...|\n",
            "|           53|[{11941, 23.28130...|\n",
            "|          133|[{11941, 21.76717...|\n",
            "|           78|[{14301, 13.15504...|\n",
            "|          108|[{14826, 14.95829...|\n",
            "|           34|[{9500, 11.131841...|\n",
            "|          101|[{182, 7.6971474}...|\n",
            "|          115|[{11941, 12.69868...|\n",
            "|          126|[{273, 13.0139885...|\n",
            "|           81|[{11941, 33.07206...|\n",
            "|           28|[{9500, 14.682959...|\n",
            "|           76|[{12061, 10.56286...|\n",
            "|           26|[{1738, 10.175392...|\n",
            "|           27|[{11941, 31.72511...|\n",
            "|           44|[{1693, 8.793795}...|\n",
            "|          103|[{11941, 26.95999...|\n",
            "|           12|[{1738, 12.177852...|\n",
            "+-------------+--------------------+\n",
            "only showing top 20 rows\n",
            "\n"
          ],
          "name": "stdout"
        }
      ]
    },
    {
      "cell_type": "code",
      "metadata": {
        "id": "stUaAoKpTgqT",
        "outputId": "9d679bd0-5f34-47b7-8921-d7615f21c993",
        "colab": {
          "base_uri": "https://localhost:8080/"
        }
      },
      "source": [
        "recs.take(1)"
      ],
      "execution_count": 30,
      "outputs": [
        {
          "output_type": "execute_result",
          "data": {
            "text/plain": [
              "[Row(user_id_index=31, recommendations=[Row(track_index=11941, rating=39.958438873291016), Row(track_index=12192, rating=7.958272457122803), Row(track_index=14826, rating=7.8038649559021), Row(track_index=17141, rating=6.939486026763916), Row(track_index=11878, rating=6.936768054962158), Row(track_index=9557, rating=6.936768054962158), Row(track_index=8496, rating=6.936768054962158), Row(track_index=10339, rating=6.936768054962158), Row(track_index=14236, rating=6.479747295379639), Row(track_index=1688, rating=6.220320701599121)])]"
            ]
          },
          "metadata": {
            "tags": []
          },
          "execution_count": 30
        }
      ]
    },
    {
      "cell_type": "code",
      "metadata": {
        "id": "u-UgEiBwm9o9"
      },
      "source": [
        ""
      ],
      "execution_count": null,
      "outputs": []
    }
  ]
}