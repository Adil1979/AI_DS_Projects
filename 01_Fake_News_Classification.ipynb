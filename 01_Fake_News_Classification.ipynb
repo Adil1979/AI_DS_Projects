{
  "nbformat": 4,
  "nbformat_minor": 0,
  "metadata": {
    "colab": {
      "name": "01_Fake_News_Classification.ipynb",
      "provenance": [],
      "authorship_tag": "ABX9TyMz1bzzFhzjKCrrvajuHSc2",
      "include_colab_link": true
    },
    "kernelspec": {
      "name": "python3",
      "display_name": "Python 3"
    }
  },
  "cells": [
    {
      "cell_type": "markdown",
      "metadata": {
        "id": "view-in-github",
        "colab_type": "text"
      },
      "source": [
        "<a href=\"https://colab.research.google.com/github/Adil1979/AI_DS_Projects/blob/master/01_Fake_News_Classification.ipynb\" target=\"_parent\"><img src=\"https://colab.research.google.com/assets/colab-badge.svg\" alt=\"Open In Colab\"/></a>"
      ]
    },
    {
      "cell_type": "markdown",
      "metadata": {
        "id": "msQMZ-Yh8Jwf"
      },
      "source": [
        "## **1.Import Libraries and Datasets**"
      ]
    },
    {
      "cell_type": "code",
      "metadata": {
        "id": "7n_p3aZm8TFe"
      },
      "source": [
        ""
      ],
      "execution_count": null,
      "outputs": []
    }
  ]
}